{
 "cells": [
  {
   "cell_type": "code",
   "execution_count": 1,
   "metadata": {},
   "outputs": [],
   "source": [
    "import pandas as pd\n",
    "import numpy as np\n",
    "import matplotlib.pyplot as plt\n",
    "import seaborn as sns\n"
   ]
  },
  {
   "cell_type": "code",
   "execution_count": 2,
   "metadata": {},
   "outputs": [],
   "source": [
    "from sklearn.linear_model import LogisticRegression\n",
    "from sklearn.model_selection import train_test_split\n",
    "from sklearn.metrics import classification_report,confusion_matrix"
   ]
  },
  {
   "cell_type": "code",
   "execution_count": 3,
   "metadata": {},
   "outputs": [],
   "source": [
    "df = pd.read_excel('HR_DataSet.xlsx')\n",
    "x_df = df.drop('Quitting',axis=1)\n",
    "y_df = df['Quitting']\n"
   ]
  },
  {
   "cell_type": "code",
   "execution_count": 10,
   "metadata": {},
   "outputs": [
    {
     "data": {
      "text/html": [
       "<div>\n",
       "<style scoped>\n",
       "    .dataframe tbody tr th:only-of-type {\n",
       "        vertical-align: middle;\n",
       "    }\n",
       "\n",
       "    .dataframe tbody tr th {\n",
       "        vertical-align: top;\n",
       "    }\n",
       "\n",
       "    .dataframe thead th {\n",
       "        text-align: right;\n",
       "    }\n",
       "</style>\n",
       "<table border=\"1\" class=\"dataframe\">\n",
       "  <thead>\n",
       "    <tr style=\"text-align: right;\">\n",
       "      <th></th>\n",
       "      <th>Late show up percentage</th>\n",
       "      <th>Project initiative percentage</th>\n",
       "      <th>Percentage of project delivery on time</th>\n",
       "      <th>Percentage of emails exchanged</th>\n",
       "      <th>Percentage of responsiveness</th>\n",
       "      <th>Percentage of professional email response</th>\n",
       "      <th>Percentage of sharing ideas</th>\n",
       "      <th>Percentage of helping colleagues</th>\n",
       "      <th>Percentage of entrepreneurial posts on LinkedIn</th>\n",
       "      <th>Percentage of Facebook comments</th>\n",
       "      <th>Quitting</th>\n",
       "    </tr>\n",
       "  </thead>\n",
       "  <tbody>\n",
       "    <tr>\n",
       "      <th>0</th>\n",
       "      <td>0.477912</td>\n",
       "      <td>0.517593</td>\n",
       "      <td>0.255846</td>\n",
       "      <td>0.446856</td>\n",
       "      <td>0.348797</td>\n",
       "      <td>0.064235</td>\n",
       "      <td>0.327526</td>\n",
       "      <td>0.231719</td>\n",
       "      <td>0.338214</td>\n",
       "      <td>0.471767</td>\n",
       "      <td>1</td>\n",
       "    </tr>\n",
       "    <tr>\n",
       "      <th>1</th>\n",
       "      <td>0.298068</td>\n",
       "      <td>0.403864</td>\n",
       "      <td>0.234836</td>\n",
       "      <td>0.490999</td>\n",
       "      <td>0.456119</td>\n",
       "      <td>0.274872</td>\n",
       "      <td>0.268036</td>\n",
       "      <td>0.480550</td>\n",
       "      <td>0.168622</td>\n",
       "      <td>0.680091</td>\n",
       "      <td>0</td>\n",
       "    </tr>\n",
       "    <tr>\n",
       "      <th>2</th>\n",
       "      <td>0.353470</td>\n",
       "      <td>0.545904</td>\n",
       "      <td>0.483996</td>\n",
       "      <td>0.509837</td>\n",
       "      <td>0.907533</td>\n",
       "      <td>0.326371</td>\n",
       "      <td>0.938657</td>\n",
       "      <td>0.575397</td>\n",
       "      <td>0.389811</td>\n",
       "      <td>0.514970</td>\n",
       "      <td>0</td>\n",
       "    </tr>\n",
       "    <tr>\n",
       "      <th>3</th>\n",
       "      <td>0.684900</td>\n",
       "      <td>0.678940</td>\n",
       "      <td>0.310686</td>\n",
       "      <td>0.490986</td>\n",
       "      <td>0.619742</td>\n",
       "      <td>0.436264</td>\n",
       "      <td>0.785889</td>\n",
       "      <td>0.727165</td>\n",
       "      <td>0.761269</td>\n",
       "      <td>0.409326</td>\n",
       "      <td>1</td>\n",
       "    </tr>\n",
       "    <tr>\n",
       "      <th>4</th>\n",
       "      <td>0.714167</td>\n",
       "      <td>0.365101</td>\n",
       "      <td>0.294082</td>\n",
       "      <td>0.392456</td>\n",
       "      <td>0.687196</td>\n",
       "      <td>0.314229</td>\n",
       "      <td>0.578492</td>\n",
       "      <td>0.233666</td>\n",
       "      <td>0.722546</td>\n",
       "      <td>0.621463</td>\n",
       "      <td>1</td>\n",
       "    </tr>\n",
       "    <tr>\n",
       "      <th>...</th>\n",
       "      <td>...</td>\n",
       "      <td>...</td>\n",
       "      <td>...</td>\n",
       "      <td>...</td>\n",
       "      <td>...</td>\n",
       "      <td>...</td>\n",
       "      <td>...</td>\n",
       "      <td>...</td>\n",
       "      <td>...</td>\n",
       "      <td>...</td>\n",
       "      <td>...</td>\n",
       "    </tr>\n",
       "    <tr>\n",
       "      <th>995</th>\n",
       "      <td>0.540622</td>\n",
       "      <td>0.425615</td>\n",
       "      <td>0.439613</td>\n",
       "      <td>0.363198</td>\n",
       "      <td>0.540406</td>\n",
       "      <td>0.230579</td>\n",
       "      <td>0.318439</td>\n",
       "      <td>0.013646</td>\n",
       "      <td>0.494684</td>\n",
       "      <td>0.565135</td>\n",
       "      <td>1</td>\n",
       "    </tr>\n",
       "    <tr>\n",
       "      <th>996</th>\n",
       "      <td>0.259226</td>\n",
       "      <td>0.369436</td>\n",
       "      <td>0.496785</td>\n",
       "      <td>0.470391</td>\n",
       "      <td>0.823357</td>\n",
       "      <td>0.717082</td>\n",
       "      <td>0.536417</td>\n",
       "      <td>0.278421</td>\n",
       "      <td>0.390341</td>\n",
       "      <td>0.816257</td>\n",
       "      <td>0</td>\n",
       "    </tr>\n",
       "    <tr>\n",
       "      <th>997</th>\n",
       "      <td>0.621092</td>\n",
       "      <td>0.388595</td>\n",
       "      <td>0.393724</td>\n",
       "      <td>0.548295</td>\n",
       "      <td>0.438829</td>\n",
       "      <td>0.443107</td>\n",
       "      <td>0.064574</td>\n",
       "      <td>0.060641</td>\n",
       "      <td>0.364369</td>\n",
       "      <td>0.594624</td>\n",
       "      <td>1</td>\n",
       "    </tr>\n",
       "    <tr>\n",
       "      <th>998</th>\n",
       "      <td>0.588408</td>\n",
       "      <td>0.301913</td>\n",
       "      <td>0.152232</td>\n",
       "      <td>0.390393</td>\n",
       "      <td>0.968955</td>\n",
       "      <td>0.485200</td>\n",
       "      <td>0.395298</td>\n",
       "      <td>0.512713</td>\n",
       "      <td>0.599986</td>\n",
       "      <td>0.437207</td>\n",
       "      <td>1</td>\n",
       "    </tr>\n",
       "    <tr>\n",
       "      <th>999</th>\n",
       "      <td>0.428501</td>\n",
       "      <td>0.373313</td>\n",
       "      <td>0.158579</td>\n",
       "      <td>0.474733</td>\n",
       "      <td>0.463829</td>\n",
       "      <td>0.115608</td>\n",
       "      <td>0.340598</td>\n",
       "      <td>0.409495</td>\n",
       "      <td>0.586658</td>\n",
       "      <td>0.578147</td>\n",
       "      <td>1</td>\n",
       "    </tr>\n",
       "  </tbody>\n",
       "</table>\n",
       "<p>1000 rows × 11 columns</p>\n",
       "</div>"
      ],
      "text/plain": [
       "     Late show up percentage  Project initiative percentage  \\\n",
       "0                   0.477912                       0.517593   \n",
       "1                   0.298068                       0.403864   \n",
       "2                   0.353470                       0.545904   \n",
       "3                   0.684900                       0.678940   \n",
       "4                   0.714167                       0.365101   \n",
       "..                       ...                            ...   \n",
       "995                 0.540622                       0.425615   \n",
       "996                 0.259226                       0.369436   \n",
       "997                 0.621092                       0.388595   \n",
       "998                 0.588408                       0.301913   \n",
       "999                 0.428501                       0.373313   \n",
       "\n",
       "     Percentage of project delivery on time  Percentage of emails exchanged  \\\n",
       "0                                  0.255846                        0.446856   \n",
       "1                                  0.234836                        0.490999   \n",
       "2                                  0.483996                        0.509837   \n",
       "3                                  0.310686                        0.490986   \n",
       "4                                  0.294082                        0.392456   \n",
       "..                                      ...                             ...   \n",
       "995                                0.439613                        0.363198   \n",
       "996                                0.496785                        0.470391   \n",
       "997                                0.393724                        0.548295   \n",
       "998                                0.152232                        0.390393   \n",
       "999                                0.158579                        0.474733   \n",
       "\n",
       "     Percentage of responsiveness  Percentage of professional email response  \\\n",
       "0                        0.348797                                   0.064235   \n",
       "1                        0.456119                                   0.274872   \n",
       "2                        0.907533                                   0.326371   \n",
       "3                        0.619742                                   0.436264   \n",
       "4                        0.687196                                   0.314229   \n",
       "..                            ...                                        ...   \n",
       "995                      0.540406                                   0.230579   \n",
       "996                      0.823357                                   0.717082   \n",
       "997                      0.438829                                   0.443107   \n",
       "998                      0.968955                                   0.485200   \n",
       "999                      0.463829                                   0.115608   \n",
       "\n",
       "     Percentage of sharing ideas  Percentage of helping colleagues  \\\n",
       "0                       0.327526                          0.231719   \n",
       "1                       0.268036                          0.480550   \n",
       "2                       0.938657                          0.575397   \n",
       "3                       0.785889                          0.727165   \n",
       "4                       0.578492                          0.233666   \n",
       "..                           ...                               ...   \n",
       "995                     0.318439                          0.013646   \n",
       "996                     0.536417                          0.278421   \n",
       "997                     0.064574                          0.060641   \n",
       "998                     0.395298                          0.512713   \n",
       "999                     0.340598                          0.409495   \n",
       "\n",
       "     Percentage of entrepreneurial posts on LinkedIn  \\\n",
       "0                                           0.338214   \n",
       "1                                           0.168622   \n",
       "2                                           0.389811   \n",
       "3                                           0.761269   \n",
       "4                                           0.722546   \n",
       "..                                               ...   \n",
       "995                                         0.494684   \n",
       "996                                         0.390341   \n",
       "997                                         0.364369   \n",
       "998                                         0.599986   \n",
       "999                                         0.586658   \n",
       "\n",
       "     Percentage of Facebook comments  Quitting  \n",
       "0                           0.471767         1  \n",
       "1                           0.680091         0  \n",
       "2                           0.514970         0  \n",
       "3                           0.409326         1  \n",
       "4                           0.621463         1  \n",
       "..                               ...       ...  \n",
       "995                         0.565135         1  \n",
       "996                         0.816257         0  \n",
       "997                         0.594624         1  \n",
       "998                         0.437207         1  \n",
       "999                         0.578147         1  \n",
       "\n",
       "[1000 rows x 11 columns]"
      ]
     },
     "execution_count": 10,
     "metadata": {},
     "output_type": "execute_result"
    }
   ],
   "source": [
    "df"
   ]
  },
  {
   "cell_type": "markdown",
   "metadata": {},
   "source": [
    "# Test SIze 0.2"
   ]
  },
  {
   "cell_type": "code",
   "execution_count": 4,
   "metadata": {},
   "outputs": [],
   "source": [
    "np.random.seed(50)\n",
    "x_train,x_test,y_train,y_test = train_test_split(x_df,y_df,test_size=0.2)\n",
    "logreg = LogisticRegression()\n",
    "logreg.fit(x_train,y_train)\n",
    "y_pred = logreg.predict(x_test)\n"
   ]
  },
  {
   "cell_type": "code",
   "execution_count": 5,
   "metadata": {},
   "outputs": [
    {
     "name": "stdout",
     "output_type": "stream",
     "text": [
      "              precision    recall  f1-score   support\n",
      "\n",
      "           0       0.97      0.93      0.95       102\n",
      "           1       0.93      0.97      0.95        98\n",
      "\n",
      "    accuracy                           0.95       200\n",
      "   macro avg       0.95      0.95      0.95       200\n",
      "weighted avg       0.95      0.95      0.95       200\n",
      "\n"
     ]
    },
    {
     "data": {
      "image/png": "[encoded data removed]",
      "text/plain": [
       "<Figure size 432x288 with 2 Axes>"
      ]
     },
     "metadata": {
      "needs_background": "light"
     },
     "output_type": "display_data"
    }
   ],
   "source": [
    "sns.heatmap(confusion_matrix(y_test,y_pred))\n",
    "print(classification_report(y_test,y_pred))"
   ]
  },
  {
   "cell_type": "markdown",
   "metadata": {},
   "source": [
    "# Test size 0.4"
   ]
  },
  {
   "cell_type": "code",
   "execution_count": 6,
   "metadata": {},
   "outputs": [],
   "source": [
    "np.random.seed(50)\n",
    "x_train1,x_test1,y_train1,y_test1 = train_test_split(x_df,y_df,test_size=0.4)\n",
    "logreg1 = LogisticRegression()\n",
    "logreg1.fit(x_train1,y_train1)\n",
    "y_pred1 = logreg1.predict(x_test1)\n"
   ]
  },
  {
   "cell_type": "code",
   "execution_count": 7,
   "metadata": {},
   "outputs": [
    {
     "name": "stdout",
     "output_type": "stream",
     "text": [
      "              precision    recall  f1-score   support\n",
      "\n",
      "           0       0.94      0.94      0.94       196\n",
      "           1       0.95      0.94      0.94       204\n",
      "\n",
      "    accuracy                           0.94       400\n",
      "   macro avg       0.94      0.94      0.94       400\n",
      "weighted avg       0.94      0.94      0.94       400\n",
      "\n"
     ]
    },
    {
     "data": {
      "image/png": "[encoded data removed]",
      "text/plain": [
       "<Figure size 432x288 with 2 Axes>"
      ]
     },
     "metadata": {
      "needs_background": "light"
     },
     "output_type": "display_data"
    }
   ],
   "source": [
    "sns.heatmap(confusion_matrix(y_test1,y_pred1))\n",
    "print(classification_report(y_test1,y_pred1))"
   ]
  },
  {
   "cell_type": "code",
   "execution_count": 8,
   "metadata": {},
   "outputs": [],
   "source": [
    "import pypandoc"
   ]
  },
  {
   "cell_type": "code",
   "execution_count": null,
   "metadata": {},
   "outputs": [],
   "source": []
  },
  {
   "cell_type": "code",
   "execution_count": 9,
   "metadata": {},
   "outputs": [
    {
     "data": {
      "text/plain": [
       "''"
      ]
     },
     "execution_count": 9,
     "metadata": {},
     "output_type": "execute_result"
    }
   ],
   "source": [
    "pypandoc.convert_file('Assignment 10.md','docx',outputfile='Assignment10.docx')"
   ]
  },
  {
   "cell_type": "code",
   "execution_count": null,
   "metadata": {},
   "outputs": [],
   "source": []
  }
 ],
 "metadata": {
  "kernelspec": {
   "display_name": "Python 3",
   "language": "python",
   "name": "python3"
  },
  "language_info": {
   "codemirror_mode": {
    "name": "ipython",
    "version": 3
   },
   "file_extension": ".py",
   "mimetype": "text/x-python",
   "name": "python",
   "nbconvert_exporter": "python",
   "pygments_lexer": "ipython3",
   "version": "3.7.6"
  }
 },
 "nbformat": 4,
 "nbformat_minor": 4
}
